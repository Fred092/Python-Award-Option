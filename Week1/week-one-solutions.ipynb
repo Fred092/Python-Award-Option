{
 "cells": [
  {
   "cell_type": "code",
   "execution_count": 8,
   "metadata": {},
   "outputs": [
    {
     "name": "stdout",
     "output_type": "stream",
     "text": [
      "0.0°C 32.0°F\n"
     ]
    }
   ],
   "source": [
    "def menu():\n",
    "    #menu for chooing which way the user would like to convert\n",
    "    userChoice = int(input(\"Would you like to convert from 1. Celsius to Fahrenheit | 2. Fahrenheit to Celsius? \"))\n",
    "    if userChoice == 1:\n",
    "     ctof()\n",
    "    \n",
    "    elif userChoice == 2:\n",
    "     ftoc()\n",
    "\n",
    "def ctof():\n",
    "    #for converting from Celsius to Fahrenheit\n",
    "    C = float(input(\"Enter value in Celsius: \"))\n",
    "    F = (C*9/5+32)\n",
    "    print(f'{C}°C {F}°F')\n",
    "\n",
    "def ftoc():\n",
    "    #for converting from Fahrenheit to Celsius\n",
    "    F = float(input(\"Enter value in Fahrenheit: \"))\n",
    "    C = ((F-32)*5/9)\n",
    "    print(f'{F}°F is {C}°C')\n",
    "\n",
    "\n",
    "menu()"
   ]
  },
  {
   "cell_type": "code",
   "execution_count": 14,
   "metadata": {},
   "outputs": [
    {
     "name": "stdout",
     "output_type": "stream",
     "text": [
      "First Number : 10\n",
      "Second Number : 5\n",
      "Sum: 15\n",
      "Difference: 5\n",
      "Product: 50\n",
      "Integer Division: 2.0\n"
     ]
    }
   ],
   "source": [
    "def inputs():\n",
    "    firstnum = int(input(\"Enter first number: \"))\n",
    "    secondnum = int(input(\"Enter second number: \"))\n",
    "    return firstnum, secondnum\n",
    "\n",
    "def calculations(firstnum, secondnum):\n",
    "    sum = (firstnum + secondnum)\n",
    "    difference = (firstnum - secondnum) \n",
    "    product = (firstnum * secondnum)\n",
    "    intdiv = (firstnum / secondnum)\n",
    "    print(f\"First Number : {firstnum}\")\n",
    "    print(f\"Second Number : {secondnum}\")\n",
    "    print(f\"Sum: {sum}\")\n",
    "    print(f\"Difference: {difference}\")\n",
    "    print(f\"Product: {product}\")\n",
    "    print(f\"Integer Division: {intdiv}\")\n",
    "    return sum, difference, product, intdiv\n",
    "\n",
    "\n",
    "def main():\n",
    "    firstnum, secondnum = inputs()\n",
    "    calculations(firstnum, secondnum)\n",
    "    \n",
    "\n",
    "main()\n",
    "\n"
   ]
  },
  {
   "cell_type": "code",
   "execution_count": 1,
   "metadata": {},
   "outputs": [
    {
     "name": "stdout",
     "output_type": "stream",
     "text": [
      "16\n",
      " Your initials are: FS \n",
      " Total number of charaters (exluding spaces): 16\n",
      "Thank You\n"
     ]
    }
   ],
   "source": [
    "def getfullname():\n",
    "    fullname = input('Enter your full name: ')\n",
    "    return fullname\n",
    "\n",
    "def initials(fullname):\n",
    "    nameList = fullname.split()\n",
    "    initials = nameList[0][0].upper() + nameList[1][0].upper()\n",
    "\n",
    "    totalNoChar = len(nameList[0]) + len(nameList[1])\n",
    "    print(totalNoChar)\n",
    "    \n",
    "    print(f' Your initials are: {initials} \\n Total number of charaters (exluding spaces): {totalNoChar}')\n",
    "    choiceGiven = input(\"Would you like your name in reverse order: (Y/N)\")\n",
    "\n",
    "    if choiceGiven == 'Y': \n",
    "        reverseName = fullname[::-1]\n",
    "        print(reverseName)\n",
    "    else:\n",
    "        print(\"Thank You\")\n",
    "\n",
    "def main():\n",
    "    fullname = getfullname()\n",
    "    initials(fullname)\n",
    "\n",
    "main()\n",
    "\n"
   ]
  }
 ],
 "metadata": {
  "kernelspec": {
   "display_name": "Python 3 (ipykernel)",
   "language": "python",
   "name": "python3"
  },
  "language_info": {
   "codemirror_mode": {
    "name": "ipython",
    "version": 3
   },
   "file_extension": ".py",
   "mimetype": "text/x-python",
   "name": "python",
   "nbconvert_exporter": "python",
   "pygments_lexer": "ipython3",
   "version": "3.12.1"
  }
 },
 "nbformat": 4,
 "nbformat_minor": 2
}
