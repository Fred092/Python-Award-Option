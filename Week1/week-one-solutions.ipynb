{
 "cells": [
  {
   "cell_type": "markdown",
   "metadata": {},
   "source": [
    "# Challenge 1"
   ]
  },
  {
   "cell_type": "code",
   "execution_count": 3,
   "metadata": {},
   "outputs": [
    {
     "name": "stdout",
     "output_type": "stream",
     "text": [
      "21.0°C 69.8°F\n"
     ]
    }
   ],
   "source": [
    "def menu():\n",
    "    #menu for chooing which way the user would like to convert\n",
    "    userChoice = int(input(\"Would you like to convert from 1. Celsius to Fahrenheit | 2. Fahrenheit to Celsius? \"))\n",
    "    if userChoice == 1:\n",
    "     ctof()\n",
    "    \n",
    "    elif userChoice == 2:\n",
    "     ftoc()\n",
    "\n",
    "def ctof():\n",
    "    #for converting from Celsius to Fahrenheit\n",
    "    C = float(input(\"Enter value in Celsius: \"))\n",
    "    F = (C*9/5+32)\n",
    "    print(f'{C}°C {F}°F')\n",
    "\n",
    "def ftoc():\n",
    "    #for converting from Fahrenheit to Celsius\n",
    "    F = float(input(\"Enter value in Fahrenheit: \"))\n",
    "    C = ((F-32)*5/9)\n",
    "    print(f'{F}°F is {C}°C')\n",
    "\n",
    "\n",
    "menu()"
   ]
  },
  {
<<<<<<< HEAD
   "cell_type": "markdown",
   "metadata": {},
   "source": [
    "#### Feedback\n",
    "##### What is Good:\n",
    "- The code correctly converts temperatures between Celsius and Fahrenheit.\n",
    "- Good use of functions (`ctof` and `ftoc`) for reusability and readability.\n",
    "- Variables (`C` and `F`) are clear and appropriately named.\n",
    "- The program interacts well with the user, providing clear input prompts and output messages.\n",
    "\n",
    "##### What Can Be Improved:\n",
    "- Add checks to handle invalid inputs (e.g., non-numeric values) to make the program more robust.\n",
    "- Include more descriptive comments explaining the purpose of each function.\n",
    "- Ensure consistent output formatting across functions, e.g., use `print(f'{C}°C is {F}°F')` in `ctof` to match `ftoc`."
   ]
  },
  {
=======
   "cell_type": "markdown",
   "metadata": {},
   "source": [
    "# Challenge 2"
   ]
  },
  {
>>>>>>> 729ff45ae6df129cb1bf8158b04ca2160dea2ad9
   "cell_type": "code",
   "execution_count": 2,
   "metadata": {},
   "outputs": [
    {
     "name": "stdout",
     "output_type": "stream",
     "text": [
      "First Number : 10\n",
      "Second Number : 5\n",
      "Sum: 15\n",
      "Difference: 5\n",
      "Product: 50\n",
      "Quotient Division (normal): 2.0\n",
      "Integer Division: 2\n",
      "Modulus Division: 0\n"
     ]
    }
   ],
   "source": [
    "def inputs():\n",
    "    firstnum = int(input(\"Enter first number: \"))\n",
    "    secondnum = int(input(\"Enter second number: \"))\n",
    "    return firstnum, secondnum\n",
    "\n",
    "def calculations(firstnum, secondnum):\n",
    "    sum = (firstnum + secondnum)\n",
    "    difference = (firstnum - secondnum) \n",
    "    product = (firstnum * secondnum)\n",
    "    intdiv = (firstnum // secondnum)\n",
    "    qdiv = (firstnum / secondnum)\n",
    "    moddiv = (firstnum % secondnum)\n",
    "    print(f\"First Number : {firstnum}\")\n",
    "    print(f\"Second Number : {secondnum}\")\n",
    "    print(f\"Sum: {sum}\")\n",
    "    print(f\"Difference: {difference}\")\n",
    "    print(f\"Product: {product}\")\n",
    "    print(f\"Quotient Division (normal): {qdiv}\")\n",
    "    print(f\"Integer Division: {intdiv}\")\n",
    "    print(f\"Modulus Division: {moddiv}\")\n",
    "    return sum, difference, product, intdiv\n",
    "\n",
    "\n",
    "def main():\n",
    "    firstnum, secondnum = inputs()\n",
    "    calculations(firstnum, secondnum)\n",
    "    \n",
    "\n",
    "main()\n",
    "\n"
   ]
  },
  {
<<<<<<< HEAD
   "cell_type": "markdown",
   "metadata": {},
   "source": [
    "#### Feedback \n",
    "##### What is Good:\n",
    "- Good use of functions to separate input handling (`inputs`) and calculations (`calculations`).\n",
    "- Meaningful variable names (`firstnum`, `secondnum`, `sum`, `difference`, etc.).\n",
    "- User-friendly input prompts and clear output.\n",
    "\n",
    "##### What Can Be Improved:\n",
    "- Include modulus (%) and normal division (/)  results as specified in the task.\n",
    "- Validate inputs to handle potential division by zero errors.\n",
    "- Match the output format with the task example, including floating-point precision (e.g., `6.0` instead of `6`).\n",
    "- Use separate functions for each operation to fully meet task requirements."
   ]
  },
  {
=======
   "cell_type": "markdown",
   "metadata": {},
   "source": [
    "# Challenge 3"
   ]
  },
  {
>>>>>>> 729ff45ae6df129cb1bf8158b04ca2160dea2ad9
   "cell_type": "code",
   "execution_count": 1,
   "metadata": {},
   "outputs": [
    {
     "name": "stdout",
     "output_type": "stream",
     "text": [
      "13\n",
      " Your initials are: FT \n",
      " Total number of charaters (exluding spaces): 13\n",
      "Thank You\n"
     ]
    }
   ],
   "source": [
    "def getfullname():\n",
    "    fullname = input('Enter your full name: ')\n",
    "    return fullname\n",
    "\n",
    "def initials(fullname):\n",
    "    nameList = fullname.split()\n",
    "    initials = nameList[0][0].upper() + nameList[1][0].upper()\n",
    "\n",
    "    totalNoChar = len(nameList[0]) + len(nameList[1])\n",
    "    print(totalNoChar)\n",
    "    \n",
    "    print(f' Your initials are: {initials} \\n Total number of charaters (exluding spaces): {totalNoChar}')\n",
    "    choiceGiven = input(\"Would you like your name in reverse order: (Y/N)\")\n",
    "\n",
    "    if choiceGiven == 'Y': \n",
    "        reverseName = fullname[::-1]\n",
    "        print(reverseName)\n",
    "    else:\n",
    "        print(\"Thank You\")\n",
    "\n",
    "def main():\n",
    "    fullname = getfullname()\n",
    "    initials(fullname)\n",
    "\n",
    "main()\n",
    "\n"
   ]
  },
  {
   "cell_type": "markdown",
   "metadata": {},
   "source": [
    "### Feedback \n",
    "\n",
    "#### What is Good:\n",
    "- The program effectively captures the full name input from the user.\n",
    "- Initials are calculated and displayed in uppercase as required.\n",
    "- The program interacts with the user to provide an option for reversing the name.\n",
    "- Code is structured into separate functions for input, processing, and main logic.\n",
    "\n",
    "#### What Can Be Improved:\n",
    "- Correct the spelling of \"characters\" in the output message.\n",
    "- Fix the logic for counting characters to exclude spaces dynamically rather than assuming two parts of the name.\n",
    "- Implement a separate function for reversing the name to meet task requirements.\n",
    "- Use `.replace()` to explicitly remove spaces for character counting, as suggested in the task.\n",
    "```python\n",
    "def count_characters(full_name):\n",
    "    # Remove spaces to count only characters\n",
    "    no_spaces_name = full_name.replace(\" \", \"\")\n",
    "    return len(no_spaces_name)"
   ]
  }
 ],
 "metadata": {
  "kernelspec": {
   "display_name": "Python 3 (ipykernel)",
   "language": "python",
   "name": "python3"
  },
  "language_info": {
   "codemirror_mode": {
    "name": "ipython",
    "version": 3
   },
   "file_extension": ".py",
   "mimetype": "text/x-python",
   "name": "python",
   "nbconvert_exporter": "python",
   "pygments_lexer": "ipython3",
   "version": "3.12.1"
  }
 },
 "nbformat": 4,
 "nbformat_minor": 2
}
