{
 "cells": [
  {
   "cell_type": "code",
   "execution_count": 8,
   "metadata": {},
   "outputs": [
    {
     "name": "stdout",
     "output_type": "stream",
     "text": [
      "0.0°C 32.0°F\n"
     ]
    }
   ],
   "source": [
    "def menu():\n",
    "    userChoice = int(input(\"Would you like to convert from 1. Celsius to Fahrenheit | 2. Fahrenheit to Celsius? \"))\n",
    "    if userChoice == 1:\n",
    "     ctof()\n",
    "    \n",
    "    elif userChoice == 2:\n",
    "     ftoc()\n",
    "\n",
    "def ctof():\n",
    "    C = float(input(\"Enter value in Celcius: \"))\n",
    "    F = (C*9/5+32)\n",
    "    print(f'{C}°C {F}°F')\n",
    "\n",
    "def ftoc():\n",
    "    F = float(input(\"Enter value in Fahrenheit: \"))\n",
    "    C = ((F-32)*5/9)\n",
    "    print(f'{F}°F is {C}°C')\n",
    "\n",
    "menu()"
   ]
  }
 ],
 "metadata": {
  "kernelspec": {
   "display_name": "Python 3",
   "language": "python",
   "name": "python3"
  },
  "language_info": {
   "codemirror_mode": {
    "name": "ipython",
    "version": 3
   },
   "file_extension": ".py",
   "mimetype": "text/x-python",
   "name": "python",
   "nbconvert_exporter": "python",
   "pygments_lexer": "ipython3",
   "version": "3.13.1"
  }
 },
 "nbformat": 4,
 "nbformat_minor": 2
}
