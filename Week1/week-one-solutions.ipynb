{
 "cells": [
  {
   "cell_type": "code",
   "execution_count": null,
   "metadata": {},
   "outputs": [],
   "source": [
    "def menu():\n",
    "    #menu for chooing which way the user would like to convert\n",
    "    userChoice = int(input(\"Would you like to convert from 1. Celsius to Fahrenheit | 2. Fahrenheit to Celsius? \"))\n",
    "    if userChoice == 1:\n",
    "     ctof()\n",
    "    \n",
    "    elif userChoice == 2:\n",
    "     ftoc()\n",
    "\n",
    "def ctof():\n",
    "    #for converting from Celsius to Fahrenheit\n",
    "    C = float(input(\"Enter value in Celsius: \"))\n",
    "    F = (C*9/5+32)\n",
    "    print(f'{C}°C {F}°F')\n",
    "\n",
    "def ftoc():\n",
    "    #for converting from Fahrenheit to Celsius\n",
    "    F = float(input(\"Enter value in Fahrenheit: \"))\n",
    "    C = ((F-32)*5/9)\n",
    "    print(f'{F}°F is {C}°C')\n",
    "\n",
    "\n",
    "menu()"
   ]
  },
  {
   "cell_type": "code",
   "execution_count": null,
   "metadata": {},
   "outputs": [],
   "source": [
    "def inputs():\n",
    "    firstnum = int(input(\"Enter first number: \"))\n",
    "    secondnum = int(input(\"Enter second number: \"))\n",
    "    return firstnum, secondnum\n",
    "\n",
    "def calculations(firstnum, secondnum):\n",
    "    sum = (firstnum + secondnum)\n",
    "    difference = (firstnum - secondnum) \n",
    "    product = (firstnum * secondnum)\n",
    "    intdiv = (firstnum / secondnum)\n",
    "    print(f\"First Number : {firstnum}\")\n",
    "    print(f\"Second Number : {secondnum}\")\n",
    "    print(f\"Sum: {sum}\")\n",
    "    print(f\"Difference: {difference}\")\n",
    "    print(f\"Product: {product}\")\n",
    "    print(f\"Integer Division: {intdiv}\")\n",
    "    return sum, difference, product, intdiv\n",
    "\n",
    "\n",
    "def main():\n",
    "    firstnum, secondnum = inputs()\n",
    "    calculations(firstnum, secondnum)\n",
    "    \n",
    "\n",
    "main()\n",
    "\n"
   ]
  },
  {
   "cell_type": "code",
   "execution_count": 84,
   "metadata": {},
   "outputs": [
    {
     "ename": "TypeError",
     "evalue": "input() takes 0 positional arguments but 1 was given",
     "output_type": "error",
     "traceback": [
      "\u001b[0;31m---------------------------------------------------------------------------\u001b[0m",
      "\u001b[0;31mTypeError\u001b[0m                                 Traceback (most recent call last)",
      "Cell \u001b[0;32mIn[84], line 25\u001b[0m\n\u001b[1;32m     22\u001b[0m     fullname \u001b[38;5;241m=\u001b[39m getfullname()\n\u001b[1;32m     23\u001b[0m     initials(fullname)\n\u001b[0;32m---> 25\u001b[0m \u001b[43mmain\u001b[49m\u001b[43m(\u001b[49m\u001b[43m)\u001b[49m\n",
      "Cell \u001b[0;32mIn[84], line 22\u001b[0m, in \u001b[0;36mmain\u001b[0;34m()\u001b[0m\n\u001b[1;32m     21\u001b[0m \u001b[38;5;28;01mdef\u001b[39;00m\u001b[38;5;250m \u001b[39m\u001b[38;5;21mmain\u001b[39m():\n\u001b[0;32m---> 22\u001b[0m     fullname \u001b[38;5;241m=\u001b[39m \u001b[43mgetfullname\u001b[49m\u001b[43m(\u001b[49m\u001b[43m)\u001b[49m\n\u001b[1;32m     23\u001b[0m     initials(fullname)\n",
      "Cell \u001b[0;32mIn[84], line 2\u001b[0m, in \u001b[0;36mgetfullname\u001b[0;34m()\u001b[0m\n\u001b[1;32m      1\u001b[0m \u001b[38;5;28;01mdef\u001b[39;00m\u001b[38;5;250m \u001b[39m\u001b[38;5;21mgetfullname\u001b[39m():\n\u001b[0;32m----> 2\u001b[0m     fullname \u001b[38;5;241m=\u001b[39m \u001b[38;5;28;43minput\u001b[39;49m\u001b[43m(\u001b[49m\u001b[38;5;124;43m'\u001b[39;49m\u001b[38;5;124;43mEnter your full name: \u001b[39;49m\u001b[38;5;124;43m'\u001b[39;49m\u001b[43m)\u001b[49m\n\u001b[1;32m      3\u001b[0m     \u001b[38;5;28;01mreturn\u001b[39;00m fullname\n",
      "\u001b[0;31mTypeError\u001b[0m: input() takes 0 positional arguments but 1 was given"
     ]
    }
   ],
   "source": [
    "def getfullname():\n",
    "    fullname = input('Enter your full name: ')\n",
    "    return fullname\n",
    "\n",
    "def initials(fullname):\n",
    "    nameList = fullname.split()\n",
    "    initials = nameList[0][0].upper() + nameList[1][0].upper()\n",
    "\n",
    "    totalNoChar = len(nameList[0]) + len(nameList[1])\n",
    "    print(totalNoChar)\n",
    "    \n",
    "    print(f' Your initials are: {initials} \\n Total number of charaters (exluding spaces): {totalNoChar}')\n",
    "    choiceGiven = input(\"Would you like your name in reverse order: (Y/N)\")\n",
    "\n",
    "    if choiceGiven == 'Y': \n",
    "        reverseName = fullname[::-1]\n",
    "        print(reverseName)\n",
    "    else:\n",
    "        print(\"Thank You\")\n",
    "\n",
    "def main():\n",
    "    fullname = getfullname()\n",
    "    initials(fullname)\n",
    "\n",
    "main()\n",
    "\n"
   ]
  }
 ],
 "metadata": {
  "kernelspec": {
   "display_name": "Python 3",
   "language": "python",
   "name": "python3"
  },
  "language_info": {
   "codemirror_mode": {
    "name": "ipython",
    "version": 3
   },
   "file_extension": ".py",
   "mimetype": "text/x-python",
   "name": "python",
   "nbconvert_exporter": "python",
   "pygments_lexer": "ipython3",
   "version": "3.13.1"
  }
 },
 "nbformat": 4,
 "nbformat_minor": 2
}
