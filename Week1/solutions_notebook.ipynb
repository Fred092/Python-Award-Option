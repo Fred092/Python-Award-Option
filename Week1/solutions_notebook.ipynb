{
  "cells": [
    {
      "cell_type": "markdown",
      "metadata": {},
      "source": [
        "# Challenge 1"
      ]
    },
    {
      "cell_type": "code",
      "execution_count": 3,
      "metadata": {},
      "outputs": [
        {
          "name": "stdout",
          "output_type": "stream",
          "text": [
            "21.0\u00b0C 69.8\u00b0F\n"
          ]
        }
      ],
      "source": [
        "def menu():\n",
        "    # Menu for choosing which way the user would like to convert\n",
        "    userChoice = int(input(\"Would you like to convert from 1. Celsius to Fahrenheit | 2. Fahrenheit to Celsius? \"))\n",
        "    if userChoice == 1:\n",
        "        ctof()\n",
        "    elif userChoice == 2:\n",
        "        ftoc()\n",
        "\n",
        "def ctof():\n",
        "    # For converting from Celsius to Fahrenheit\n",
        "    C = float(input(\"Enter value in Celsius: \"))\n",
        "    F = (C * 9 / 5 + 32)\n",
        "    print(f'{C}\u00b0C is {F}\u00b0F')\n",
        "\n",
        "def ftoc():\n",
        "    # For converting from Fahrenheit to Celsius\n",
        "    F = float(input(\"Enter value in Fahrenheit: \"))\n",
        "    C = ((F - 32) * 5 / 9)\n",
        "    print(f'{F}\u00b0F is {C}\u00b0C')\n",
        "\n",
        "menu()"
      ]
    },
    {
      "cell_type": "markdown",
      "metadata": {},
      "source": [
        "# Challenge 2"
      ]
    },
    {
      "cell_type": "code",
      "execution_count": 2,
      "metadata": {},
      "outputs": [
        {
          "name": "stdout",
          "output_type": "stream",
          "text": [
            "First Number : 10\n",
            "Second Number : 5\n",
            "Sum: 15\n",
            "Difference: 5\n",
            "Product: 50\n",
            "Quotient Division (normal): 2.0\n",
            "Integer Division: 2\n",
            "Modulus Division: 0\n"
          ]
        }
      ],
      "source": [
        "def inputs():\n",
        "    firstnum = int(input(\"Enter first number: \"))\n",
        "    secondnum = int(input(\"Enter second number: \"))\n",
        "    return firstnum, secondnum\n",
        "\n",
        "def calculations(firstnum, secondnum):\n",
        "    sum = (firstnum + secondnum)\n",
        "    difference = (firstnum - secondnum)\n",
        "    product = (firstnum * secondnum)\n",
        "    intdiv = (firstnum // secondnum)\n",
        "    qdiv = (firstnum / secondnum)\n",
        "    moddiv = (firstnum % secondnum)\n",
        "    print(f\"First Number : {firstnum}\")\n",
        "    print(f\"Second Number : {secondnum}\")\n",
        "    print(f\"Sum: {sum}\")\n",
        "    print(f\"Difference: {difference}\")\n",
        "    print(f\"Product: {product}\")\n",
        "    print(f\"Quotient Division (normal): {qdiv}\")\n",
        "    print(f\"Integer Division: {intdiv}\")\n",
        "    print(f\"Modulus Division: {moddiv}\")\n",
        "\n",
        "def main():\n",
        "    firstnum, secondnum = inputs()\n",
        "    calculations(firstnum, secondnum)\n",
        "\n",
        "main()"
      ]
    },
    {
      "cell_type": "markdown",
      "metadata": {},
      "source": [
        "# Challenge 3"
      ]
    },
    {
      "cell_type": "code",
      "execution_count": 1,
      "metadata": {},
      "outputs": [
        {
          "name": "stdout",
          "output_type": "stream",
          "text": [
            "13\n",
            "Your initials are: FT\n",
            "Total number of characters (excluding spaces): 13\n",
            "Thank You\n"
          ]
        }
      ],
      "source": [
        "def get_full_name():\n",
        "    full_name = input('Enter your full name: ')\n",
        "    return full_name\n",
        "\n",
        "def calculate_initials(full_name):\n",
        "    name_list = full_name.split()\n",
        "    initials = name_list[0][0].upper() + name_list[1][0].upper()\n",
        "    return initials\n",
        "\n",
        "def count_characters(full_name):\n",
        "    no_spaces_name = full_name.replace(\" \", \"\")\n",
        "    return len(no_spaces_name)\n",
        "\n",
        "def reverse_name(full_name):\n",
        "    return full_name[::-1]\n",
        "\n",
        "def main():\n",
        "    full_name = get_full_name()\n",
        "    initials_result = calculate_initials(full_name)\n",
        "    total_characters = count_characters(full_name)\n",
        "    print(f\"Your initials are: {initials_result}\")\n",
        "    print(f\"Total number of characters (excluding spaces): {total_characters}\")\n",
        "    choice = input(\"Would you like your name in reverse order? (Y/N): \").strip().upper()\n",
        "    if choice == 'Y':\n",
        "        print(f\"Your name in reverse order is: {reverse_name(full_name)}\")\n",
        "    else:\n",
        "        print(\"Thank You!\")\n",
        "\n",
        "main()"
      ]
    }
  ],
  "metadata": {
    "kernelspec": {
      "display_name": "Python 3 (ipykernel)",
      "language": "python",
      "name": "python3"
    },
    "language_info": {
      "codemirror_mode": {
        "name": "ipython",
        "version": 3
      },
      "file_extension": ".py",
      "mimetype": "text/x-python",
      "name": "python",
      "nbconvert_exporter": "python",
      "pygments_lexer": "ipython3",
      "version": "3.12.1"
    }
  },
  "nbformat": 4,
  "nbformat_minor": 2
}