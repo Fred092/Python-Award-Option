{
 "cells": [
  {
   "cell_type": "markdown",
   "metadata": {},
   "source": [
    "### 📥 Keeping Your Local Repository Updated with the Main Repository\n",
    "\n",
    "Follow these step-by-step instructions to update your local clone of the repository with any new changes added to the main repository.\n",
    "\n",
    "---\n",
    "\n",
    "#### 1. Open Your Terminal and Navigate to Your Project Folder\n",
    "\n",
    "First, open your terminal (or Git Bash) and navigate to the folder where your cloned repository is located:\n",
    "\n",
    "```bash\n",
    "cd path/to/your/repository\n",
    "```\n",
    "####  2.Check if you have the correct folder\n",
    "```bash\n",
    "git status\n",
    "```\n",
    "Expected output:\n",
    "```bash\n",
    "origin  git@github.com:your-username/your-repo.git (fetch)\n",
    "origin  git@github.com:your-username/your-repo.git (push)\n",
    "```\n",
    "- if upstream is not listed, add the main repo as a remote\n",
    "```bash\n",
    "git remote add upstream git@github.com:main-repo-owner/main-repo.git\n",
    "```\n",
    "#### 3. Merge the latest changes into your local branch\n",
    "\n",
    "- Switch to your main branch (usually main or master)\n",
    "```bash\n",
    "git checkout main\n",
    "```\n",
    "- Merge the updates from the main repo\n",
    "```bash\n",
    "git merge upstream/main\n",
    "```\n",
    "If your branch is called master, replace main with master.\n",
    "\n",
    "#### 4. Handle any Merge Conflicts\n",
    "- If there are merge conflicts, resolve them in your code editor.\n",
    "\n",
    "- After resolving conflicts, stage and commit the changes:\n",
    "```bash\n",
    "git add .\n",
    "git commit -m \"Resolved merge conflicts\"\n",
    "```\n",
    "- Push the Updates to Your Fork on GitHub\n",
    "```bash\n",
    "git push origin main\n",
    "```\n"
   ]
  }
 ],
 "metadata": {
  "language_info": {
   "name": "python"
  }
 },
 "nbformat": 4,
 "nbformat_minor": 2
}
