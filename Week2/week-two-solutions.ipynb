{
 "cells": [
  {
   "cell_type": "markdown",
   "metadata": {},
   "source": [
    "# Challenge One"
   ]
  },
  {
   "cell_type": "code",
   "execution_count": 4,
   "metadata": {},
   "outputs": [
    {
     "name": "stdout",
     "output_type": "stream",
     "text": [
      "Negative\n"
     ]
    }
   ],
   "source": [
    "def decisions():\n",
    "    usernumber = int(input(\"Enter a number: \"))\n",
    "    if usernumber > 0:\n",
    "        print(\"Positive\")\n",
    "    elif usernumber == 0:\n",
    "        print(\"Zero\")\n",
    "    elif usernumber < 0:\n",
    "        print(\"Negative\")\n",
    "    else:\n",
    "        print(\"Enter Valid Number\")\n",
    "\n",
    "decisions()"
   ]
  },
  {
   "cell_type": "markdown",
   "metadata": {},
   "source": [
    "# Challenge Two"
   ]
  },
  {
   "cell_type": "code",
   "execution_count": 4,
   "metadata": {},
   "outputs": [
    {
     "ename": "ValueError",
     "evalue": "empty range for randrange()",
     "output_type": "error",
     "traceback": [
      "\u001b[0;31m---------------------------------------------------------------------------\u001b[0m",
      "\u001b[0;31mValueError\u001b[0m                                Traceback (most recent call last)",
      "Cell \u001b[0;32mIn[4], line 15\u001b[0m\n\u001b[1;32m     12\u001b[0m         \u001b[38;5;28;01melif\u001b[39;00m userguess \u001b[38;5;241m<\u001b[39m randgen:\n\u001b[1;32m     13\u001b[0m            \u001b[38;5