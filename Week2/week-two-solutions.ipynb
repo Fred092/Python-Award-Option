{
 "cells": [
  {
   "cell_type": "markdown",
   "metadata": {},
   "source": [
    "# Challenge One"
   ]
  },
  {
   "cell_type": "code",
   "execution_count": 4,
   "metadata": {},
   "outputs": [
    {
     "name": "stdout",
     "output_type": "stream",
     "text": [
      "Negative\n"
     ]
    }
   ],
   "source": [
    "def decisions():\n",
    "    usernumber = int(input(\"Enter a number: \"))\n",
    "    if usernumber > 0:\n",
    "        print(\"Positive\")\n",
    "    elif usernumber == 0:\n",
    "        print(\"Zero\")\n",
    "    elif usernumber < 0:\n",
    "        print(\"Negative\")\n",
    "    else:\n",
    "        print(\"Enter Valid Number\")\n",
    "\n",
    "decisions()"
   ]
  },
  {
   "cell_type": "markdown",
   "metadata": {},
   "source": [
    "# Challenge Two"
   ]
  },
  {
   "cell_type": "code",
   "execution_count": null,
   "metadata": {},
   "outputs": [],
   "source": [
    "def randnum():\n",
    "    import random\n",
    "    randgen = random.range(1-10)\n",
    "    "
   ]
  }
 ],
 "metadata": {
  "kernelspec": {
   "display_name": "Python 3",
   "language": "python",
   "name": "python3"
  },
  "language_info": {
   "codemirror_mode": {
    "name": "ipython",
    "version": 3
   },
   "file_extension": ".py",
   "mimetype": "text/x-python",
   "name": "python",
   "nbconvert_exporter": "python",
   "pygments_lexer": "ipython3",
   "version": "3.13.1"
  }
 },
 "nbformat": 4,
 "nbformat_minor": 2
}
