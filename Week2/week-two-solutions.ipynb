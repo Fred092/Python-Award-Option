{
 "cells": [
  {
   "cell_type": "markdown",
   "metadata": {},
   "source": [
    "# Challenge One"
   ]
  },
  {
   "cell_type": "code",
   "execution_count": 4,
   "metadata": {},
   "outputs": [
    {
     "name": "stdout",
     "output_type": "stream",
     "text": [
      "Negative\n"
     ]
    }
   ],
   "source": [
    "def decisions():\n",
    "    usernumber = int(input(\"Enter a number: \"))\n",
    "    if usernumber > 0:\n",
    "        print(\"Positive\")\n",
    "    elif usernumber == 0:\n",
    "        print(\"Zero\")\n",
    "    elif usernumber < 0:\n",
    "        print(\"Negative\")\n",
    "    else:\n",
    "        print(\"Enter Valid Number\")\n",
    "\n",
    "decisions()"
   ]
  },
  {
   "cell_type": "markdown",
   "metadata": {},
   "source": [
    "# Challenge Two"
   ]
  },
  {
   "cell_type": "code",
   "execution_count": 3,
   "metadata": {},
   "outputs": [
    {
     "name": "stdout",
     "output_type": "stream",
     "text": [
      "too small, try again,\n",
      "too small, try again,\n",
      "too small, try again,\n",
      "too small, try again,\n",
      "too small, try again,\n",
      "Sorry, you've used all your attempts. The number was 9.\n"
     ]
    }
   ],
   "source": [
    "def randnum():\n",
    "    import random\n",
    "    randgen = random.randint(0, 10)\n",
    "    maxattempts = 5\n",
    "    attempts = maxattempts\n",
    "    attempts = 5\n",
    "\n",
    "    while attempts  > 0:\n",
    "      userguess = int(input(f\"Enter your guess (1-10) {attempts}: \"))\n",
    "      if userguess == randgen:\n",
    "         print(f'Well done it was {randgen}')\n",
    "         break\n",
    "      elif userguess > randgen:\n",
    "         print('too big')\n",
    "         attempts -= 1\n",
    "      elif userguess < randgen:\n",
    "         print('too small, try again,')\n",
    "         attempts -= 1\n",
    "      if attempts == 0:\n",
    "        print(f\"Sorry, you've used all your attempts. The number was {randgen}.\")\n",
    "\n",
    "randnum()"
   ]
  },
  {
   "cell_type": "markdown",
   "metadata": {},
   "source": [
    "# Challenge 3"
   ]
  },
  {
   "cell_type": "code",
   "execution_count": 22,
   "metadata": {},
   "outputs": [
    {
     "name": "stdout",
     "output_type": "stream",
     "text": [
      "5 x 0 = 0\n",
      "5 x 1 = 5\n",
      "5 x 2 = 10\n",
      "5 x 3 = 15\n",
      "5 x 4 = 20\n",
      "5 x 5 = 25\n",
      "5 x 6 = 30\n",
      "5 x 7 = 35\n",
      "5 x 8 = 40\n",
      "5 x 9 = 45\n",
      "5 x 10 = 50\n",
      "5 x 11 = 55\n",
      "5 x 12 = 60\n"
     ]
    }
   ],
   "source": [
    "def table():\n",
    "    usernum = int(input(\"Enter a number: \"))\n",
    "    for i in range(13):\n",
    "        answer = usernum * i \n",
    "        print(f'{usernum} x {i} = {answer}')\n",
    "\n",
    "table()"
   ]
  }
 ],
 "metadata": {
  "kernelspec": {
   "display_name": "Python 3",
   "language": "python",
   "name": "python3"
  },
  "language_info": {
   "codemirror_mode": {
    "name": "ipython",
    "version": 3
   },
   "file_extension": ".py",
   "mimetype": "text/x-python",
   "name": "python",
   "nbconvert_exporter": "python",
   "pygments_lexer": "ipython3",
   "version": "3.13.1"
  }
 },
 "nbformat": 4,
 "nbformat_minor": 2
}
