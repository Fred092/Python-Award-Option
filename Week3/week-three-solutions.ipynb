{
 "cells": [
  {
   "cell_type": "markdown",
   "metadata": {},
   "source": [
    "# Challenge One"
   ]
  },
  {
   "cell_type": "code",
   "execution_count": 8,
   "metadata": {},
   "outputs": [
    {
     "name": "stdout",
     "output_type": "stream",
     "text": [
      "area is 78.53981633974483, Circumference is 31.41592653589793\n"
     ]
    }
   ],
   "source": [
    "def circlemaths():\n",
    "    import math\n",
    "    radius = int(input(\"Enter the Radius of the circle: \"))\n",
    "    pi = math.pi\n",
    "    area = pi*radius**2\n",
    "    circumference = 2*pi*radius\n",
    "    print(f'area is {area}, Circumference is {circumference}')\n",
    "\n",
    "circlemaths()"
   ]
  }
 ],
 "metadata": {
  "kernelspec": {
   "display_name": "Python 3 (ipykernel)",
   "language": "python",
   "name": "python3"
  },
  "language_info": {
   "codemirror_mode": {
    "name": "ipython",
    "version": 3
   },
   "file_extension": ".py",
   "mimetype": "text/x-python",
   "name": "python",
   "nbconvert_exporter": "python",
   "pygments_lexer": "ipython3",
   "version": "3.12.1"
  }
 },
 "nbformat": 4,
 "nbformat_minor": 2
}
