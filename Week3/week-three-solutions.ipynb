{
 "cells": [
  {
   "cell_type": "markdown",
   "metadata": {},
   "source": [
    "# Challenge One"
   ]
  },
  {
   "cell_type": "code",
   "execution_count": 8,
   "metadata": {},
   "outputs": [
    {
     "name": "stdout",
     "output_type": "stream",
     "text": [
      "area is 78.53981633974483, Circumference is 31.41592653589793\n"
     ]
    }
   ],
   "source": [
    "def circlemaths():\n",
    "    import math\n",
    "    radius = int(input(\"Enter the Radius of the circle: \"))\n",
    "    pi = math.pi\n",
    "    area = pi*radius**2\n",
    "    circumference = 2*pi*radius\n",
    "    print(f'area is {area}, Circumference is {circumference}')\n",
    "\n",
    "circlemaths()"
   ]
  },
  {
   "cell_type": "markdown",
   "metadata": {},
   "source": [
    "# Challenge Two"
   ]
  },
  {
   "cell_type": "code",
   "execution_count": 9,
   "metadata": {},
   "outputs": [
    {
     "ename": "SyntaxError",
     "evalue": "invalid decimal literal (2795000330.py, line 4)",
     "output_type": "error",
     "traceback": [
      "\u001b[0;36m  Cell \u001b[0;32mIn[9], line 4\u001b[0;36m\u001b[0m\n\u001b[0;31m    1die = \\U2690\u001b[0m\n\u001b[0m    ^\u001b[0m\n\u001b[0;31mSyntaxError\u001b[0m\u001b[0;31m:\u001b[0m invalid decimal literal\n"
     ]
    }
   ],
   "source": [
    "def diceroll():\n",
    "    import random\n",
    "    import time\n",
    "    die1 = '\\u2690'\n",
    "    die2 = '\\u2681'\n",
    "    die3 = '\\u2682'\n",
    "    die4 = '\\u2683'\n",
    "    die5 = '\\u2684'\n",
    "    die6 = '\\u2685'\n",
    "    dicefaces = [die1, die2, die3, die4, die5, die6]\n",
    "    print(\"Rolling Dice\")\n",
    "    \n",
    "    for i in range (6):\n",
    "        print(randome.choice(dicefaces))\n",
    "        time.sleep(0.5)\n",
    "\n",
    "    diceroll1 = random.randint(1, 6)\n",
    "    diceroll2 = random.randint(1, 6)\n",
    "    rollsum = diceroll1 + diceroll2\n",
    "\n",
    "    print(f'Dice one ={diceroll1}, Dice two ={diceroll2}, Sum of dice rolls ={rollsum}')\n",
    "\n",
    "diceroll()"
   ]
  }
 ],
 "metadata": {
  "kernelspec": {
   "display_name": "Python 3 (ipykernel)",
   "language": "python",
   "name": "python3"
  }
 },
 "nbformat": 4,
 "nbformat_minor": 2
}
