{
 "cells": [
  {
   "cell_type": "markdown",
   "metadata": {},
   "source": [
    "# Challenge One"
   ]
  },
  {
   "cell_type": "code",
   "execution_count": 8,
   "metadata": {},
   "outputs": [
    {
     "name": "stdout",
     "output_type": "stream",
     "text": [
      "area is 78.53981633974483, Circumference is 31.41592653589793\n"
     ]
    }
   ],
   "source": [
    "def circlemaths():\n",
    "    import math\n",
    "    radius = int(input(\"Enter the Radius of the circle: \"))\n",
    "    pi = math.pi\n",
    "    area = pi*radius**2\n",
    "    circumference = 2*pi*radius\n",
    "    print(f'area is {area}, Circumference is {circumference}')\n",
    "\n",
    "circlemaths()"
   ]
  },
  {
   "cell_type": "markdown",
   "metadata": {},
   "source": [
    "# Challenge Two"
   ]
  },
  {
   "cell_type": "code",
   "execution_count": 23,
   "metadata": {},
   "outputs": [
    {
     "name": "stdout",
     "output_type": "stream",
     "text": [
      "Rolling Dice... ⚁ ⚂ ⚃ ⚁ ⚁ ⚂ ⚅ ⚅ ⚀ ⚂ \n",
      "\n",
      "Dice one = 5, Dice two = 6, Sum of dice rolls = 11\n"
     ]
    }
   ],
   "source": [
    "def diceroll():\n",
    "    import random\n",
    "    import time\n",
    "    die1 = '\\u2680'\n",
    "    die2 = '\\u2681'\n",
    "    die3 = '\\u2682'\n",
    "    die4 = '\\u2683'\n",
    "    die5 = '\\u2684'\n",
    "    die6 = '\\u2685'\n",
    "    dicefaces = [die1, die2, die3, die4, die5, die6]\n",
    "    print(\"Rolling Dice...\", end=\" \")\n",
    "    \n",
    "    for i in range (10):\n",
    "        print(random.choice(dicefaces), end=\" \")\n",
    "        time.sleep(0.1)\n",
    "\n",
    "    print(\"\\n\")\n",
    "\n",
    "    diceroll1 = random.randint(1, 6)\n",
    "    diceroll2 = random.randint(1, 6)\n",
    "    rollsum = diceroll1 + diceroll2\n",
    "\n",
    "    print(f'Dice one = {diceroll1}, Dice two = {diceroll2}, Sum of dice rolls = {rollsum}')\n",
    "\n",
    "diceroll()"
   ]
  },
  {
   "cell_type": "markdown",
   "metadata": {},
   "source": [
    "# Challenge Three"
   ]
  },
  {
   "cell_type": "code",
   "execution_count": 27,
   "metadata": {},
   "outputs": [
    {
     "name": "stdout",
     "output_type": "stream",
     "text": [
      "20\n",
      "19\n",
      "18\n",
      "17\n",
      "16\n",
      "15\n",
      "14\n",
      "13\n",
      "12\n",
      "11\n",
      "10\n",
      "9\n",
      "8\n",
      "7\n",
      "6\n",
      "5\n",
      "4\n",
      "3\n",
      "2\n",
      "1\n",
      "0\n"
     ]
    }
   ],
   "source": [
    "def timer():\n",
    "    import time\n",
    "    startnum = int(input(\"Enter number to start: \"))\n",
    "    currentnum = startnum\n",
    "    print(startnum)\n",
    "    for i in range(startnum):\n",
    "        print(currentnum-1)\n",
    "        currentnum = currentnum-1\n",
    "\n",
    "timer()\n"
   ]
  },
  {
   "cell_type": "markdown",
   "metadata": {},
   "source": [
    "# Challenge 4"
   ]
  },
  {
   "cell_type": "code",
   "execution_count": 12,
   "metadata": {},
   "outputs": [
    {
     "name": "stdout",
     "output_type": "stream",
     "text": [
      "Generated Password: YDie\\1Q6\n"
     ]
    }
   ],
   "source": [
    "def passgen():\n",
    "    import random\n",
    "    import string\n",
    "\n",
    "    passlength = int(input(\"Enter password length: \"))\n",
    "\n",
    "    if passlength < 4:\n",
    "        raise ValueError(\"Password length must be at least 4 to include one character from each set.\")\n",
    "\n",
    "    lowerletters = list(string.ascii_lowercase)\n",
    "    upperletters = list(string.ascii_uppercase)\n",
    "    digits = list(string.digits)\n",
    "    specialcharacters = list(string.punctuation)\n",
    "\n",
    "    \n",
    "    \n",
    "    password = [\n",
    "        random.choice(lowerletters),\n",
    "        random.choice(upperletters),\n",
    "        random.choice(digits),\n",
    "        random.choice(specialcharacters),\n",
    "    ]\n",
    "    \n",
    "    allcharacters = lowerletters + upperletters + digits + specialcharacters\n",
    "    \n",
    "    password += random.choices(allcharacters, k=passlength - 4)\n",
    "\n",
    "    random.shuffle(password)\n",
    "    return ''.join(password)\n",
    "print(\"Generated Password:\", passgen())\n",
    "\n"
   ]
  }
 ],
 "metadata": {
  "kernelspec": {
   "display_name": "Python 3 (ipykernel)",
   "language": "python",
   "name": "python3"
  },
  "language_info": {
   "codemirror_mode": {
    "name": "ipython",
    "version": 3
   },
   "file_extension": ".py",
   "mimetype": "text/x-python",
   "name": "python",
   "nbconvert_exporter": "python",
   "pygments_lexer": "ipython3",
   "version": "3.12.1"
  }
 },
 "nbformat": 4,
 "nbformat_minor": 2
}
