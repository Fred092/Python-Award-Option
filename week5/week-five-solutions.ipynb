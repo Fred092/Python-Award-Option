{
 "cells": [
  {
   "cell_type": "markdown",
   "metadata": {},
   "source": [
    "# Challenge One"
   ]
  },
  {
   "cell_type": "code",
   "execution_count": null,
   "metadata": {},
   "outputs": [
    {
     "name": "stdout",
     "output_type": "stream",
     "text": [
      "\n",
      "Menu:\n",
      "1. Enter Scores\n",
      "2. Read Scores\n",
      "3. Exit\n",
      "Written 55.0 to scores.txt\n",
      "Written 87.0 to scores.txt\n"
     ]
    }
   ],
   "source": [
    "def scoreentry():\n",
    "    while True:\n",
    "        user_input = input(\"Enter your Score (or type stop to finish): \").strip()\n",
    "        if user_input.lower() == 'stop':\n",
    "            break\n",
    "\n",
    "        try:\n",
    "            score = float(user_input)\n",
    "            if 0 <= score <= 100:\n",
    "                savedata(score)\n",
    "            else:\n",
    "                print(\"Please enter a number between 0 and 100.\")\n",
    "        except ValueError:\n",
    "            print(\"Invalid input. Please enter a numeric value.\")\n",
    "\n",
    "def savedata(score):\n",
    "    try:\n",
    "        with open(\"scores.txt\", \"a\") as file:\n",
    "            file.write(f'{score}\\n')\n",
    "        print(f'Written {score} to scores.txt')\n",
    "    except:\n",
    "        print(f\"Error writing to file\")\n",
    "\n",
    "def readdata():\n",
    "    try:\n",
    "        with open(\"scores.txt\", \"r\") as file:\n",
    "            content = file.readlines()\n",
    "    except FileNotFoundError:\n",
    "        print(\"No scores to display. The file does not exist yet.\")\n",
    "        return\n",
    "\n",
    "    if not content:\n",
    "        print(\"No scores to display.\")\n",
    "        return\n",
    "\n",
    "    print(\"Your Scores:\")\n",
    "    for line in content:\n",
    "        print(line.strip())\n",
    "\n",
    "def menu():\n",
    "    while True:\n",
    "        print(\"\\nMenu:\")\n",
    "        print(\"1. Enter Scores\")\n",
    "        print(\"2. Read Scores\")\n",
    "        print(\"3. Exit\")\n",
    "        choice = input(\"Please choose an option (1, 2, or 3): \").strip()\n",
    "        \n",
    "        if choice == '1':\n",
    "            scoreentry()\n",
    "        elif choice == '2':\n",
    "            readdata()\n",
    "        elif choice == '3':\n",
    "            print(\"Exiting programme.\")\n",
    "            break\n",
    "        else:\n",
    "            print(\"Invalid option, please try again.\")\n",
    "\n",
    "menu()\n"
   ]
  }
 ],
 "metadata": {
  "kernelspec": {
   "display_name": "Python 3 (ipykernel)",
   "language": "python",
   "name": "python3"
  }
 },
 "nbformat": 4,
 "nbformat_minor": 2
}
