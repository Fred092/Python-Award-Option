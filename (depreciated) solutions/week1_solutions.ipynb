{
 "cells": [
  {
   "cell_type": "code",
   "execution_count": null,
   "metadata": {},
   "outputs": [],
   "source": [
    "def celsius_to_fahrenheit(celsius):\n",
    "    '''Converts passed temp value to Fahrenheit'''\n",
    "    return celsius * 9/5 + 32\n",
    "     \n",
    "def tempConverter():\n",
    "    '''Converts between the two temperatire units'''\n",
    "    celsius = float(input(\"Enter temperature in Celsius: \"))\n",
    "    print(f\"{celsius}°C is {celsius_to_fahrenheit(celsius)}°F\")\n",
    "     \n",
    "    \n"
   ]
  },
  {
   "cell_type": "code",
   "execution_count": 2,
   "metadata": {},
   "outputs": [
    {
     "name": "stdout",
     "output_type": "stream",
     "text": [
      "34.0°C is 93.2°F\n",
      "98.0°F is 36.67°C\n"
     ]
    }
   ],
   "source": [
    "tempConverter()"
   ]
  }
 ],
 "metadata": {
  "kernelspec": {
   "display_name": "Python 3 (ipykernel)",
   "language": "python",
   "name": "python3"
  },
  "language_info": {
   "codemirror_mode": {
    "name": "ipython",
    "version": 3
   },
   "file_extension": ".py",
   "mimetype": "text/x-python",
   "name": "python",
   "nbconvert_exporter": "python",
   "pygments_lexer": "ipython3",
   "version": "3.12.1"
  }
 },
 "nbformat": 4,
 "nbformat_minor": 2
}
