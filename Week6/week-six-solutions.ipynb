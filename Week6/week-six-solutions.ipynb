{
 "cells": [
  {
   "cell_type": "markdown",
   "metadata": {},
   "source": [
    "# Challenge One"
   ]
  },
  {
   "cell_type": "code",
   "execution_count": 11,
   "metadata": {},
   "outputs": [
    {
     "name": "stdout",
     "output_type": "stream",
     "text": [
      "\n",
      " Freddie , Blue\n",
      " Freddie , Green\n"
     ]
    }
   ],
   "source": [
    "def favcolour():\n",
    "    while True:\n",
    "        try:\n",
    "            menuinput = int(input(\"Would you like to 1. Enter favourite colour. 2. Read saved info. 3. Exit\"))\n",
    "            if menuinput == 1:\n",
    "                username = input(\"(What is your Name? \")\n",
    "                usercolour = input(\"What is your favourite colour? \")\n",
    "                try:\n",
    "                    with open(\"favcolour.txt\", \"a\") as file:\n",
    "                        file.write(f'\\n {username}, {usercolour}')\n",
    "                except FileNotFoundError:\n",
    "                    print(\"Error: File not Found\")\n",
    "                \n",
    "            elif menuinput == 2:\n",
    "                try:\n",
    "                    with open(\"favcolour.txt\", \"r\") as file:\n",
    "                        filecontents = file.read()\n",
    "                        print(filecontents)\n",
    "                except FileNotFoundError:\n",
    "                    print(\"Error: File not Found\")\n",
    "            elif menuinput == 3:\n",
    "                break\n",
    "            elif menuinput >= 4:\n",
    "                print(\"Not a valid answer\")\n",
    "                favcolour()\n",
    "            elif menuinput <= 0:\n",
    "                print(\"Not a valid answer\")\n",
    "                favcolour()\n",
    "        except ValueError:\n",
    "            print(\"invalid input\")\n",
    "\n",
    "favcolour()"
   ]
  },
  {
   "cell_type": "markdown",
   "metadata": {},
   "source": [
    "# Challenge 2"
   ]
  },
  {
   "cell_type": "code",
   "execution_count": 13,
   "metadata": {},
   "outputs": [
    {
     "name": "stdout",
     "output_type": "stream",
     "text": [
      "['this', 'is', 'a', 'test', 'file', 'for', 'a', 'word', 'frequency', 'counter', 'this', 'is', 'a', 'test', 'file', 'for', 'a', 'word', 'frequency', 'counter']\n"
     ]
    }
   ],
   "source": [
    "def wordfrequencycounter():\n",
    "    with open(\"wfc.txt\", \"r\") as file:\n",
    "        contents = file.read().lower()\n",
    "        contentslist = contents.split()\n",
    "    print(contentslist)\n",
    "\n",
    "wordfrequencycounter()"
   ]
  }
 ],
 "metadata": {
  "kernelspec": {
   "display_name": "Python 3",
   "language": "python",
   "name": "python3"
  },
  "language_info": {
   "codemirror_mode": {
    "name": "ipython",
    "version": 3
   },
   "file_extension": ".py",
   "mimetype": "text/x-python",
   "name": "python",
   "nbconvert_exporter": "python",
   "pygments_lexer": "ipython3",
   "version": "3.13.1"
  }
 },
 "nbformat": 4,
 "nbformat_minor": 2
}
