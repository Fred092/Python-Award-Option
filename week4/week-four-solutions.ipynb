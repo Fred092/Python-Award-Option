{
 "cells": [
  {
   "cell_type": "markdown",
   "metadata": {},
   "source": [
    "# Challenge 1"
   ]
  },
  {
   "cell_type": "code",
   "execution_count": null,
   "metadata": {},
   "outputs": [
    {
     "ename": "IndentationError",
     "evalue": "expected an indented block after 'if' statement on line 8 (1271729664.py, line 10)",
     "output_type": "error",
     "traceback": [
      "\u001b[0;36m  Cell \u001b[0;32mIn[1], line 10\u001b[0;36m\u001b[0m\n\u001b[0;31m    elif menuinput == 2:\u001b[0m\n\u001b[0m    ^\u001b[0m\n\u001b[0;31mIndentationError\u001b[0m\u001b[0;31m:\u001b[0m expected an indented block after 'if' statement on line 8\n"
     ]
    }
   ],
   "source": [
    "def studyplanner():\n",
    "    while operational == 1:\n",
    "        subjects = []\n",
    "        for i in range(4):\n",
    "            sinput = input(f\"What is your subject {i+1}\")\n",
    "            subjects.append(sinput)\n",
    "        menuinput = int(input(\"1. Display subjects in study plan \\n 2. Add a subject \\n 3. Search for a subject \\n 4. Remove a subject \\n 5. Add a topic \\n 6. Search for a topic \\n 7. Remove a topic\"))\n",
    "        if menuinput == 1:\n",
    "            \n",
    "        elif menuinput == 2:\n",
    "            \n",
    "        elif menuinput == 3:\n",
    "            \n",
    "        else:\n",
    "            print = (\"out of range\")\n",
    "            operational = 0\n",
    "\n",
    "\n",
    "    studyplanner()"
   ]
  }
 ],
 "metadata": {
  "kernelspec": {
   "display_name": "Python 3 (ipykernel)",
   "language": "python",
   "name": "python3"
  }
 },
 "nbformat": 4,
 "nbformat_minor": 2
}
