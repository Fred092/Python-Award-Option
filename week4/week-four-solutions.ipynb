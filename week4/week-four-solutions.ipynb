{
 "cells": [
  {
   "cell_type": "markdown",
   "metadata": {},
   "source": [
    "# Challenge 1"
   ]
  },
  {
   "cell_type": "code",
   "execution_count": 2,
   "metadata": {},
   "outputs": [
    {
     "ename": "IndentationError",
     "evalue": "expected an indented block after 'elif' statement on line 25 (436215836.py, line 26)",
     "output_type": "error",
     "traceback": [
      "\u001b[0;36m  Cell \u001b[0;32mIn[2], line 26\u001b[0;36m\u001b[0m\n\u001b[0;31m    subject = input(\"New subject: \")\u001b[0m\n\u001b[0m    ^\u001b[0m\n\u001b[0;31mIndentationError\u001b[0m\u001b[0;31m:\u001b[0m expected an indented block after 'elif' statement on line 25\n"
     ]
    }
   ],
   "source": [
    "def studyplanner():\n",
    "    while operational == 1:\n",
    "        studyplan = []\n",
    "        for i in range(4):\n",
    "            subject = input(f\"What is your subject {i+1}\")\n",
    "            topic = input(f\"Enter the topic for {subject}: \")\n",
    "            studyplan.append(subject, topic)\n",
    "\n",
    "        operational = True\n",
    "        while operational:            \n",
    "            menuinput = int(input(\"1. Display subjects in study plan \\n 2. Add a subject \\n 3. Search for a subject \\n 4. Remove a subject \\n 5. Add a topic \\n 6. Search for a topic \\n 7. Remove a topic \\n 8. Exit\"))\n",
    "            try:\n",
    "                menuinput = int(input(\"Please select an option (1-8): \"))\n",
    "            except ValueError:\n",
    "                print(\"Invalid input. Please enter a number between 1 and 8.\")\n",
    "            \n",
    "            if menuinput == 1:\n",
    "                if not study_plan:\n",
    "                    print(\"No subjects in plan.\")\n",
    "                else:\n",
    "                    for s, t in study_plan:\n",
    "                        print(f\"{s}: {t if t else 'No topic'}\")\n",
    "\n",
    "\n",
    "            elif choice == 2:\n",
    "            subject = input(\"New subject: \")\n",
    "            if any(s.lower() == subject.lower() for s, _ in study_plan):\n",
    "                print(\"Subject exists.\")\n",
    "            else:\n",
    "                topic = input(\"Topic: \")\n",
    "                study_plan.append((subject, topic))\n",
    "                print(\"Added.\")\n",
    "            \n",
    "            elif choice == 3:\n",
    "                search = input(\"Find subject: \")\n",
    "                found = [s for s, t in study_plan if s.lower() == search.lower()]\n",
    "                print(f\"{'Found' if found else 'Not found'}: {found}\")\n",
    "            \n",
    "            elif choice == 4:\n",
    "                remove = input(\"Remove subject: \")\n",
    "                study_plan = [(s, t) for s, t in study_plan if s.lower() != remove.lower()]\n",
    "                print(\"Removed.\")\n",
    "            \n",
    "            elif choice == 5:\n",
    "                subject = input(\"Update topic for: \")\n",
    "                for i, (s, t) in enumerate(study_plan):\n",
    "                    if s.lower() == subject.lower():\n",
    "                        study_plan[i] = (s, input(\"New topic: \"))\n",
    "                        print(\"Updated.\")\n",
    "                        break\n",
    "                else:\n",
    "                    print(\"Not found.\")\n",
    "            \n",
    "            elif choice == 6:\n",
    "                search = input(\"Find topic: \")\n",
    "                found = [(s, t) for s, t in study_plan if t.lower() == search.lower()]\n",
    "                print(f\"{'Found' if found else 'Not found'}: {found}\")\n",
    "            \n",
    "            elif choice == 7:\n",
    "                subject = input(\"Remove topic from: \")\n",
    "                for i, (s, t) in enumerate(study_plan):\n",
    "                    if s.lower() == subject.lower():\n",
    "                        study_plan[i] = (s, \"\")\n",
    "                        print(\"Removed.\")\n",
    "                        break\n",
    "                else:\n",
    "                    print(\"Not found.\")\n",
    "            \n",
    "            elif choice == 8:\n",
    "                print(\"Goodbye!\")\n",
    "                break\n",
    "        \n",
    "            else:\n",
    "                print = (\"out of range\")\n",
    "                operational = 0\n",
    "\n",
    "\n",
    "    studyplanner()"
   ]
  }
 ],
 "metadata": {
  "kernelspec": {
   "display_name": "Python 3 (ipykernel)",
   "language": "python",
   "name": "python3"
  },
  "language_info": {
   "codemirror_mode": {
    "name": "ipython",
    "version": 3
   },
   "file_extension": ".py",
   "mimetype": "text/x-python",
   "name": "python",
   "nbconvert_exporter": "python",
   "pygments_lexer": "ipython3",
   "version": "3.12.1"
  }
 },
 "nbformat": 4,
 "nbformat_minor": 2
}
