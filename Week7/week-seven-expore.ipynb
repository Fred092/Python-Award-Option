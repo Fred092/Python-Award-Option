{
 "cells": [
  {
   "cell_type": "code",
   "execution_count": 36,
   "metadata": {},
   "outputs": [],
   "source": [
    "class Car:\n",
    "        def __init__(self, brand, model, year):\n",
    "            self.brand = brand  # Attribute\n",
    "            self.model = model\n",
    "            self.year = year\n",
    "\n",
    "        def start_engine(self):  # Method\n",
    "            print(f'The {self.brand} {self.model} engine has started.')\n",
    "\n",
    "   "
   ]
  },
  {
   "cell_type": "code",
   "execution_count": 37,
   "metadata": {},
   "outputs": [],
   "source": [
    "myCar = Car(\"Mercedes\", \"SLK\", 2022)"
   ]
  },
  {
   "cell_type": "code",
   "execution_count": 38,
   "metadata": {},
   "outputs": [],
   "source": [
    "myCar1 = Car(\"VW\", \"Polo\", 2024)"
   ]
  },
  {
   "cell_type": "code",
   "execution_count": null,
   "metadata": {},
   "outputs": [
    {
     "name": "stdout",
     "output_type": "stream",
     "text": [
      "The VW Polo engine has started.\n"
     ]
    }
   ],
   "source": [
    "myCar.start_engine()"
   ]
  },
  {
   "cell_type": "code",
   "execution_count": 43,
   "metadata": {},
   "outputs": [
    {
     "name": "stdout",
     "output_type": "stream",
     "text": [
      "The Seat Ibiza engine has started.\n"
     ]
    }
   ],
   "source": [
    "myCar2 = Car(\"Seat\", \"Ibiza\", 2021)\n",
    "myCar2.start_engine()"
   ]
  }
 ],
 "metadata": {
  "kernelspec": {
   "display_name": "Python 3 (ipykernel)",
   "language": "python",
   "name": "python3"
  },
  "language_info": {
   "codemirror_mode": {
    "name": "ipython",
    "version": 3
   },
   "file_extension": ".py",
   "mimetype": "text/x-python",
   "name": "python",
   "nbconvert_exporter": "python",
   "pygments_lexer": "ipython3",
   "version": "3.12.1"
  }
 },
 "nbformat": 4,
 "nbformat_minor": 2
}
