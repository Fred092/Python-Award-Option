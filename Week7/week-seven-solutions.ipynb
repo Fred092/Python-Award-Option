{
 "cells": [
  {
   "cell_type": "markdown",
   "metadata": {},
   "source": [
    "# Challenge One"
   ]
  },
  {
   "cell_type": "code",
   "execution_count": 43,
   "metadata": {},
   "outputs": [
    {
     "name": "stdout",
     "output_type": "stream",
     "text": [
      "Freddie is 17 and is in L6\n",
      "Reuben is 17 and is in L6\n"
     ]
    }
   ],
   "source": [
    "class Student:\n",
    "    def __init__(self, name, age, grade):\n",
    "        self.name = name\n",
    "        self.age = age\n",
    "        self.grade = grade\n",
    "\n",
    "    def displayinfo(self):\n",
    "        print(f'{self.name} is {self.age} and is in {self.grade}')\n",
    "\n",
    "my_student = Student(\"Freddie\", \"17\", \"L6\")\n",
    "my_student1 = Student(\"Reuben\", \"17\", \"L6\")\n",
    "\n",
    "my_student.displayinfo()\n",
    "my_student1.displayinfo()"
   ]
  },
  {
   "cell_type": "markdown",
   "metadata": {},
   "source": [
    "# Challenge Two"
   ]
  },
  {
   "cell_type": "code",
   "execution_count": 8,
   "metadata": {},
   "outputs": [
    {
     "name": "stdout",
     "output_type": "stream",
     "text": [
      "The book Book1, is written by me, in 2020.\n",
      "The book Book2, is written by someone-else, in 2024.\n",
      "The book Book3, is written by someother person, in 2025.\n"
     ]
    }
   ],
   "source": [
    "class Book:\n",
    "    def __init__(self, title, author, year):\n",
    "        self.title = title\n",
    "        self.author = author\n",
    "        self.year = year\n",
    "\n",
    "    def displayinfo(self):\n",
    "        print(f'The book {self.title}, is written by {self.author}, in {self.year}.')\n",
    "\n",
    "my_book = Book(\"Book1\", \"me\", \"2020\")\n",
    "my_book1 = Book(\"Book2\", \"someone-else\", \"2024\")\n",
    "my_book2 = Book(\"Book3\", \"someother person\", \"2025\")\n",
    "\n",
    "my_book.displayinfo()\n",
    "my_book1.displayinfo()\n",
    "my_book2.displayinfo()"
   ]
  },
  {
   "cell_type": "markdown",
   "metadata": {},
   "source": [
    "# Challenge 3"
   ]
  },
  {
   "cell_type": "code",
   "execution_count": null,
   "metadata": {},
   "outputs": [
    {
     "name": "stdout",
     "output_type": "stream",
     "text": [
      "Account: 12345 now has the balance: 9.0.\n"
     ]
    }
   ],
   "source": [
    "class BankAccount:\n",
    "    def get_balance_file(self):\n",
    "            # Returns a unique filename for the account using its account number\n",
    "            return f\"balance_{self.account_number}.txt\"\n",
    "\n",
    "    def getbalance(self):\n",
    "        try:\n",
    "            with open(\"balance.txt\") as file:\n",
    "                self.balance = float(file.read())\n",
    "        except FileNotFoundError:\n",
    "            print(\"***couldn't recall balance, therefore will be set to 0***\")\n",
    "            self.balance = 0\n",
    "\n",
    "    def __init__(self, account_number, balance=0):\n",
    "        self.account_number = account_number\n",
    "        self.balance = balance\n",
    "        self.getbalance()\n",
    "\n",
    "    def deposit(self):\n",
    "        deposit_amount = float(input(\"how much would you like to deposit?\"))\n",
    "        self.balance=self.balance+deposit_amount\n",
    "        self.update_balance()\n",
    "\n",
    "    def withdraw(self):\n",
    "        withdraw_amount = float(input(\"how much would you like to withdraw?\"))\n",
    "        if withdraw_amount > self.balance:\n",
    "            print(\"Insufficient funds\")\n",
    "        else:\n",
    "            self.balance=self.balance-withdraw_amount\n",
    "            self.update_balance()\n",
    "\n",
    "    def update_balance(self):\n",
    "        with open(\"balance.txt\", \"w\") as file:\n",
    "            file.write(str(self.balance))\n",
    "\n",
    "account_1 = BankAccount(12345, 0)\n",
    "account_1.deposit()\n",
    "account_1.withdraw()\n",
    "\n",
    "account_2 = BankAccount(98765, 0)\n",
    "account_2.deposit()\n",
    "account_2.withdraw()\n",
    "\n",
    "print(f\"Account: {account_1.account_number} now has the balance: {account_1.balance}.\")\n",
    "print(f\"Account: {account_2.account_number} now has the balance: {account_2.balance}.\")"
   ]
  }
 ],
 "metadata": {
  "kernelspec": {
   "display_name": "Python 3 (ipykernel)",
   "language": "python",
   "name": "python3"
  },
  "language_info": {
   "codemirror_mode": {
    "name": "ipython",
    "version": 3
   },
   "file_extension": ".py",
   "mimetype": "text/x-python",
   "name": "python",
   "nbconvert_exporter": "python",
   "pygments_lexer": "ipython3",
   "version": "3.12.1"
  }
 },
 "nbformat": 4,
 "nbformat_minor": 2
}
