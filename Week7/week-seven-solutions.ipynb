{
 "cells": [
  {
   "cell_type": "markdown",
   "metadata": {},
   "source": [
    "# Challenge One"
   ]
  },
  {
   "cell_type": "code",
   "execution_count": 72,
   "metadata": {},
   "outputs": [
    {
     "name": "stdout",
     "output_type": "stream",
     "text": [
      "Freddie is 17 and is in L6\n",
      "Reuben is 17 and is in L6\n"
     ]
    }
   ],
   "source": [
    "class Student:\n",
    "    def __init__(self, name, age, grade):\n",
    "        self.name = name\n",
    "        self.age = age\n",
    "        self.grade = grade\n",
    "\n",
    "    def displayinfo(self):\n",
    "        print(f'{self.name} is {self.age} and is in {self.grade}')\n",
    "\n",
    "my_student = Student(\"Freddie\", \"17\", \"L6\")\n",
    "my_student1 = Student(\"Reuben\", \"17\", \"L6\")\n",
    "\n",
    "my_student.displayinfo()\n",
    "my_student1.displayinfo()"
   ]
  },
  {
   "cell_type": "markdown",
   "metadata": {},
   "source": [
    "# Challenge Two"
   ]
  },
  {
   "cell_type": "code",
   "execution_count": null,
   "metadata": {},
   "outputs": [],
   "source": [
    "class Book:\n",
    "    def __init__(self, title, author, year):\n",
    "        self.title = title\n",
    "        self.author = author\n",
    "        self.author = year\n",
    "\n",
    "    def displayinfo(self):\n",
    "        print(f'The book {self.title} is written by {self.author} and in {self.year}')\n",
    "\n",
    "my_book = Book(\"Book1\", \"me\", \"2020\")\n",
    "my_book1 = Student(\"Book2\", \"someone else\", \"2024\")\n",
    "\n",
    "my_book.displayinfo()\n",
    "my_book1.displayinfo()"
   ]
  }
 ],
 "metadata": {
  "language_info": {
   "name": "python"
  }
 },
 "nbformat": 4,
 "nbformat_minor": 2
}
