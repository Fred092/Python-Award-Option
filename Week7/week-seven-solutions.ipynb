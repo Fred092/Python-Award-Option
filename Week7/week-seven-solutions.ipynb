{
 "cells": [
  {
   "cell_type": "markdown",
   "metadata": {},
   "source": [
    "# Challenge One"
   ]
  },
  {
   "cell_type": "code",
   "execution_count": 43,
   "metadata": {},
   "outputs": [
    {
     "name": "stdout",
     "output_type": "stream",
     "text": [
      "Freddie is 17 and is in L6\n",
      "Reuben is 17 and is in L6\n"
     ]
    }
   ],
   "source": [
    "class Student:\n",
    "    def __init__(self, name, age, grade):\n",
    "        self.name = name\n",
    "        self.age = age\n",
    "        self.grade = grade\n",
    "\n",
    "    def displayinfo(self):\n",
    "        print(f'{self.name} is {self.age} and is in {self.grade}')\n",
    "\n",
    "my_student = Student(\"Freddie\", \"17\", \"L6\")\n",
    "my_student1 = Student(\"Reuben\", \"17\", \"L6\")\n",
    "\n",
    "my_student.displayinfo()\n",
    "my_student1.displayinfo()"
   ]
  },
  {
   "cell_type": "markdown",
   "metadata": {},
   "source": [
    "# Challenge Two"
   ]
  },
  {
   "cell_type": "code",
   "execution_count": 8,
   "metadata": {},
   "outputs": [
    {
     "name": "stdout",
     "output_type": "stream",
     "text": [
      "The book Book1, is written by me, in 2020.\n",
      "The book Book2, is written by someone-else, in 2024.\n",
      "The book Book3, is written by someother person, in 2025.\n"
     ]
    }
   ],
   "source": [
    "class Book:\n",
    "    def __init__(self, title, author, year):\n",
    "        self.title = title\n",
    "        self.author = author\n",
    "        self.year = year\n",
    "\n",
    "    def displayinfo(self):\n",
    "        print(f'The book {self.title}, is written by {self.author}, in {self.year}.')\n",
    "\n",
    "my_book = Book(\"Book1\", \"me\", \"2020\")\n",
    "my_book1 = Book(\"Book2\", \"someone-else\", \"2024\")\n",
    "my_book2 = Book(\"Book3\", \"someother person\", \"2025\")\n",
    "\n",
    "my_book.displayinfo()\n",
    "my_book1.displayinfo()\n",
    "my_book2.displayinfo()"
   ]
  },
  {
   "cell_type": "markdown",
   "metadata": {},
   "source": [
    "# Challenge Three - Unfinished and overcomplicated"
   ]
  },
  {
   "cell_type": "code",
   "execution_count": 4,
   "metadata": {},
   "outputs": [
    {
     "ename": "NameError",
     "evalue": "name 'account_number' is not defined",
     "output_type": "error",
     "traceback": [
      "\u001b[0;31m---------------------------------------------------------------------------\u001b[0m",
      "\u001b[0;31mNameError\u001b[0m                                 Traceback (most recent call last)",
      "Cell \u001b[0;32mIn[4], line 33\u001b[0m\n\u001b[1;32m     30\u001b[0m             file\u001b[38;5;241m.\u001b[39mwrite(\u001b[38;5;28mstr\u001b[39m(\u001b[38;5;28mself\u001b[39m\u001b[38;5;241m.\u001b[39mbalance))\n\u001b[1;32m     32\u001b[0m account_1 \u001b[38;5;241m=\u001b[39m BankAccount(\u001b[38;5;241m12345\u001b[39m, \u001b[38;5;241m0\u001b[39m)\n\u001b[0;32m---> 33\u001b[0m \u001b[43maccount_1\u001b[49m\u001b[38;5;241;43m.\u001b[39;49m\u001b[43mdeposit\u001b[49m\u001b[43m(\u001b[49m\u001b[43m)\u001b[49m\n\u001b[1;32m     34\u001b[0m account_1\u001b[38;5;241m.\u001b[39mwithdraw()\n\u001b[1;32m     36\u001b[0m account_2 \u001b[38;5;241m=\u001b[39m BankAccount(\u001b[38;5;241m98765\u001b[39m, \u001b[38;5;241m0\u001b[39m)\n",
      "Cell \u001b[0;32mIn[4], line 16\u001b[0m, in \u001b[0;36mBankAccount.deposit\u001b[0;34m(self)\u001b[0m\n\u001b[1;32m     15\u001b[0m \u001b[38;5;28;01mdef\u001b[39;00m \u001b[38;5;21mdeposit\u001b[39m(\u001b[38;5;28mself\u001b[39m):\n\u001b[0;32m---> 16\u001b[0m     deposit_amount \u001b[38;5;241m=\u001b[39m \u001b[38;5;28mfloat\u001b[39m(\u001b[38;5;28minput\u001b[39m(\u001b[38;5;124mf\u001b[39m\u001b[38;5;124m\"\u001b[39m\u001b[38;5;124mhow much would you like to deposit in \u001b[39m\u001b[38;5;132;01m{\u001b[39;00m\u001b[43maccount_number\u001b[49m\u001b[38;5;132;01m}\u001b[39;00m\u001b[38;5;124m?\u001b[39m\u001b[38;5;124m\"\u001b[39m))\n\u001b[1;32m     17\u001b[0m     \u001b[38;5;28mself\u001b[39m\u001b[38;5;241m.\u001b[39mbalance\u001b[38;5;241m=\u001b[39m\u001b[38;5;28mself\u001b[39m\u001b[38;5;241m.\u001b[39mbalance\u001b[38;5;241m+\u001b[39mdeposit_amount\n\u001b[1;32m     18\u001b[0m     \u001b[38;5;28mself\u001b[39m\u001b[38;5;241m.\u001b[39mupdate_balance()\n",
      "\u001b[0;31mNameError\u001b[0m: name 'account_number' is not defined"
     ]
    }
   ],
   "source": [
    "class BankAccount:\n",
    "    def getbalance(self):\n",
    "        try:\n",
    "            with open(\"balance.txt\") as file:\n",
    "                self.balance = float(file.read())\n",
    "        except FileNotFoundError:\n",
    "            print(\"***couldn't recall balance, therefore will be set to 0***\")\n",
    "            self.balance = 0\n",
    "\n",
    "    def __init__(self, account_number, balance=0):\n",
    "        self.account_number = account_number\n",
    "        self.balance = balance\n",
    "        self.getbalance()\n",
    "\n",
    "    def deposit(self):\n",
    "        deposit_amount = float(input(f\"how much would you like to deposit in {account_number}?\"))\n",
    "        self.balance=self.balance+deposit_amount\n",
    "        self.update_balance()\n",
    "\n",
    "    def withdraw(self):\n",
    "        withdraw_amount = float(input(f\"how much would you like to withdraw from {account_number}?\"))\n",
    "        if withdraw_amount > self.balance:\n",
    "            print(\"Insufficient funds\")\n",
    "        else:\n",
    "            self.balance=self.balance-withdraw_amount\n",
    "            self.update_balance()\n",
    "\n",
    "    def update_balance(self):\n",
    "        with open(\"balance.txt\", \"w\") as file:\n",
    "            file.write(str(self.balance))\n",
    "\n",
    "account_1 = BankAccount(12345, 0)\n",
    "account_1.deposit()\n",
    "account_1.withdraw()\n",
    "\n",
    "account_2 = BankAccount(98765, 0)\n",
    "account_2.deposit()\n",
    "account_2.withdraw()\n",
    "\n",
    "print(f\"Account: {account_1.account_number} now has the balance: {account_1.balance}.\")\n",
    "print(f\"Account: {account_2.account_number} now has the balance: {account_2.balance}.\")"
   ]
  },
  {
   "cell_type": "markdown",
   "metadata": {},
   "source": [
    "# Challenge Four"
   ]
  }
 ],
 "metadata": {
  "kernelspec": {
   "display_name": "Python 3 (ipykernel)",
   "language": "python",
   "name": "python3"
  },
  "language_info": {
   "codemirror_mode": {
    "name": "ipython",
    "version": 3
   },
   "file_extension": ".py",
   "mimetype": "text/x-python",
   "name": "python",
   "nbconvert_exporter": "python",
   "pygments_lexer": "ipython3",
   "version": "3.12.1"
  }
 },
 "nbformat": 4,
 "nbformat_minor": 2
}
