{
 "cells": [
  {
   "cell_type": "markdown",
   "metadata": {},
   "source": [
    "# Challenge One"
   ]
  },
  {
   "cell_type": "code",
   "execution_count": 43,
   "metadata": {},
   "outputs": [
    {
     "name": "stdout",
     "output_type": "stream",
     "text": [
      "Freddie is 17 and is in L6\n",
      "Reuben is 17 and is in L6\n"
     ]
    }
   ],
   "source": [
    "class Student:\n",
    "    def __init__(self, name, age, grade):\n",
    "        self.name = name\n",
    "        self.age = age\n",
    "        self.grade = grade\n",
    "\n",
    "    def displayinfo(self):\n",
    "        print(f'{self.name} is {self.age} and is in {self.grade}')\n",
    "\n",
    "my_student = Student(\"Freddie\", \"17\", \"L6\")\n",
    "my_student1 = Student(\"Reuben\", \"17\", \"L6\")\n",
    "\n",
    "my_student.displayinfo()\n",
    "my_student1.displayinfo()"
   ]
  },
  {
   "cell_type": "markdown",
   "metadata": {},
   "source": [
    "# Challenge Two"
   ]
  },
  {
   "cell_type": "code",
   "execution_count": 45,
   "metadata": {},
   "outputs": [
    {
     "name": "stdout",
     "output_type": "stream",
     "text": [
      "The book Book1 is written by me and in 2020\n",
      "The book Book2 is written by someone-else and in 2024\n"
     ]
    }
   ],
   "source": [
    "class Book:\n",
    "    def __init__(self, title, author, year):\n",
    "        self.title = title\n",
    "        self.author = author\n",
    "        self.year = year\n",
    "\n",
    "    def displayinfo(self):\n",
    "        print(f'The book {self.title} is written by {self.author} and in {self.year}')\n",
    "\n",
    "my_book = Book(\"Book1\", \"me\", \"2020\")\n",
    "my_book1 = Book(\"Book2\", \"someone-else\", \"2024\")\n",
    "\n",
    "my_book.displayinfo()\n",
    "my_book1.displayinfo()"
   ]
  }
 ],
 "metadata": {
  "kernelspec": {
   "display_name": "Python 3 (ipykernel)",
   "language": "python",
   "name": "python3"
  },
  "language_info": {
   "codemirror_mode": {
    "name": "ipython",
    "version": 3
   },
   "file_extension": ".py",
   "mimetype": "text/x-python",
   "name": "python",
   "nbconvert_exporter": "python",
   "pygments_lexer": "ipython3",
   "version": "3.12.1"
  }
 },
 "nbformat": 4,
 "nbformat_minor": 2
}
